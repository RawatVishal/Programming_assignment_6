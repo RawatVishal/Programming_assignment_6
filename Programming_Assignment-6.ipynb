{
 "cells": [
  {
   "cell_type": "code",
   "execution_count": 1,
   "id": "54ec31fb",
   "metadata": {},
   "outputs": [],
   "source": [
    "#Q1-Write a python program to display fibonacci series using recursion?"
   ]
  },
  {
   "cell_type": "code",
   "execution_count": 48,
   "id": "c1999c22",
   "metadata": {},
   "outputs": [],
   "source": [
    "def fibonacci_series(n):\n",
    "    '''this function is used to find the fibonacci series upto n numbers'''\n",
    "    a = 0\n",
    "    b = 1\n",
    "    count = 0\n",
    "    if n < 0:\n",
    "        print('Enter correct number of terms of get series')\n",
    "    elif n == 0:\n",
    "        return 0\n",
    "    elif n == 1 :\n",
    "        return a\n",
    "    elif n == 2:\n",
    "        return a,a+b\n",
    "    else:\n",
    "        while count < n:\n",
    "            print(a)\n",
    "            c = a + b\n",
    "            a = b\n",
    "            b = c\n",
    "            count = count + 1"
   ]
  },
  {
   "cell_type": "code",
   "execution_count": 49,
   "id": "fbcd44e9",
   "metadata": {},
   "outputs": [
    {
     "name": "stdout",
     "output_type": "stream",
     "text": [
      "0\n",
      "1\n",
      "1\n",
      "2\n",
      "3\n",
      "5\n",
      "8\n",
      "13\n",
      "21\n",
      "34\n",
      "55\n",
      "89\n",
      "144\n",
      "233\n",
      "377\n",
      "610\n",
      "987\n",
      "1597\n",
      "2584\n",
      "4181\n",
      "6765\n",
      "10946\n",
      "17711\n",
      "28657\n",
      "46368\n"
     ]
    }
   ],
   "source": [
    "fibonacci_series(25)"
   ]
  },
  {
   "cell_type": "code",
   "execution_count": 47,
   "id": "97bc393c",
   "metadata": {},
   "outputs": [],
   "source": [
    "#Q2-Write a python program to find the factorial of number using recursion ?"
   ]
  },
  {
   "cell_type": "code",
   "execution_count": 58,
   "id": "2f6f58af",
   "metadata": {},
   "outputs": [],
   "source": [
    "def factorial():\n",
    "    num = int(input('Enter the number to find factorial : '))\n",
    "    a = 1\n",
    "    if num == 0:\n",
    "        print('Fatorial of 0 is 1')\n",
    "    elif num < 0:\n",
    "        print('Please enter the valid number')\n",
    "    else:\n",
    "        for i in range(1,num+1):\n",
    "                a = a*i\n",
    "        print('Factorial of ',num ,'is',a)\n",
    "    \n",
    "        \n",
    "    \n"
   ]
  },
  {
   "cell_type": "code",
   "execution_count": 59,
   "id": "b29b2f38",
   "metadata": {},
   "outputs": [
    {
     "name": "stdout",
     "output_type": "stream",
     "text": [
      "Enter the number to find factorial : 5\n",
      "Factorial of  5 is 120\n"
     ]
    }
   ],
   "source": [
    "factorial()"
   ]
  },
  {
   "cell_type": "code",
   "execution_count": 60,
   "id": "4d1ff9d0",
   "metadata": {},
   "outputs": [],
   "source": [
    "#Q3-Write a python program to calculate your body mass index ?"
   ]
  },
  {
   "cell_type": "code",
   "execution_count": 82,
   "id": "52c795c9",
   "metadata": {},
   "outputs": [],
   "source": [
    "def bmi_calculator():\n",
    "    height = float(input('Enter your height in meter : '))\n",
    "    weight = float(input('Enter your weight in kg : '))\n",
    "    BMI = (weight)/((height)**2)\n",
    "    if BMI < 15:\n",
    "        print('Very severly underweight')\n",
    "    elif BMI > 15 and BMI < 16:\n",
    "        print('Severly underweight')\n",
    "    elif BMI > 16 and BMI <18.5:\n",
    "        print('underweight')\n",
    "    elif BMI > 18.5 and BMI <25:\n",
    "        print('Normal')\n",
    "    elif BMI >25 and BMI <30:\n",
    "        print('Overweight')\n",
    "    elif BMI >30 and BMI < 35:\n",
    "        print('Moderately Obese')\n",
    "    elif BMI >35 and BMI < 40:\n",
    "        print('Severly Obese')\n",
    "    else:\n",
    "        print('Very severly obese')\n",
    "    "
   ]
  },
  {
   "cell_type": "code",
   "execution_count": 83,
   "id": "b3e876e0",
   "metadata": {},
   "outputs": [
    {
     "name": "stdout",
     "output_type": "stream",
     "text": [
      "Enter your height in meter : 1.8\n",
      "Enter your weight in kg : 75\n",
      "Normal\n"
     ]
    }
   ],
   "source": [
    "bmi_calculator()"
   ]
  },
  {
   "cell_type": "code",
   "execution_count": 84,
   "id": "6f1750b2",
   "metadata": {},
   "outputs": [],
   "source": [
    "#Q4-Write a python program to calculate the natural lgorithm of any number  ?"
   ]
  },
  {
   "cell_type": "code",
   "execution_count": 87,
   "id": "39e512ef",
   "metadata": {},
   "outputs": [
    {
     "name": "stdout",
     "output_type": "stream",
     "text": [
      "Enter the number : 5\n",
      "log to the base 10 of 5.0 is 0.6989700043360189\n",
      "log to the base 2 of 5.0 is 2.321928094887362\n"
     ]
    }
   ],
   "source": [
    "import numpy as np\n",
    "num  = float(input('Enter the number : '))\n",
    "print('log to the base 10 of',num,'is',np.log10(num))\n",
    "print('log to the base 2 of',num,'is',np.log2(num))"
   ]
  },
  {
   "cell_type": "code",
   "execution_count": 88,
   "id": "a00f88a4",
   "metadata": {},
   "outputs": [],
   "source": [
    "#Q5-Write a python program for cube sum of n natural number ?"
   ]
  },
  {
   "cell_type": "code",
   "execution_count": 89,
   "id": "34d6a655",
   "metadata": {},
   "outputs": [],
   "source": [
    "def cube_sum():\n",
    "    number = int(input('Enter the num : '))\n",
    "    sum  = 0\n",
    "    for i in range(1,number+1):\n",
    "        sum = sum +(i*i*i)\n",
    "    print('cube sum of ',number,'natural numbers is',sum)"
   ]
  },
  {
   "cell_type": "code",
   "execution_count": 91,
   "id": "65e6395a",
   "metadata": {},
   "outputs": [
    {
     "name": "stdout",
     "output_type": "stream",
     "text": [
      "Enter the num : 10\n",
      "cube sum of  10 natural numbers is 3025\n"
     ]
    }
   ],
   "source": [
    "cube_sum()"
   ]
  },
  {
   "cell_type": "code",
   "execution_count": null,
   "id": "434e9553",
   "metadata": {},
   "outputs": [],
   "source": []
  }
 ],
 "metadata": {
  "kernelspec": {
   "display_name": "Python 3 (ipykernel)",
   "language": "python",
   "name": "python3"
  },
  "language_info": {
   "codemirror_mode": {
    "name": "ipython",
    "version": 3
   },
   "file_extension": ".py",
   "mimetype": "text/x-python",
   "name": "python",
   "nbconvert_exporter": "python",
   "pygments_lexer": "ipython3",
   "version": "3.9.7"
  }
 },
 "nbformat": 4,
 "nbformat_minor": 5
}
